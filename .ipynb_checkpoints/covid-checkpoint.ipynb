{
 "cells": [
  {
   "cell_type": "code",
   "execution_count": null,
   "id": "0b6ce597-5d97-43be-b1fe-a5a630761edc",
   "metadata": {},
   "outputs": [],
   "source": [
    "# Import necessary libraries\n",
    "import pandas as pd\n",
    "import numpy as np\n",
    "import matplotlib.pyplot as plt\n",
    "import seaborn as sns\n",
    "import plotly.express as px\n",
    "from datetime import datetime\n",
    "import warnings\n",
    "warnings.filterwarnings('ignore')\n"
   ]
  },
  {
   "cell_type": "code",
   "execution_count": null,
   "id": "f17a1411-fee3-4577-982b-bcf0c235989d",
   "metadata": {},
   "outputs": [],
   "source": [
    "# Set visualization styles\n",
    "plt.style.use('fivethirtyeight')\n",
    "sns.set_palette('Set2')"
   ]
  },
  {
   "cell_type": "code",
   "execution_count": null,
   "id": "2af55639-9498-4206-8fc4-9586e17f0f84",
   "metadata": {},
   "outputs": [],
   "source": [
    "# 1. DATA LOADING\n",
    "print(\"Loading COVID-19 data...\")\n",
    "df = pd.read_csv('owid-covid-data.csv')"
   ]
  },
  {
   "cell_type": "code",
   "execution_count": null,
   "id": "57e9541a-1c97-4547-b66e-504d7b53c371",
   "metadata": {},
   "outputs": [],
   "source": [
    "# 2. DATA EXPLORATION\n",
    "print(\"\\n--- Data Overview ---\")\n",
    "print(f\"Dataset shape: {df.shape}\")\n",
    "print(\"\\nFirst 5 rows:\")\n",
    "print(df.head())\n",
    "\n",
    "print(\"\\nColumn names:\")\n",
    "for col in df.columns:\n",
    "    print(f\"- {col}\")\n",
    "\n",
    "print(\"\\nMissing values in key columns:\")\n",
    "key_columns = ['date', 'location', 'total_cases', 'new_cases', 'total_deaths', 'new_deaths', \n",
    "               'total_vaccinations', 'people_vaccinated', 'people_fully_vaccinated']\n",
    "print(df[key_columns].isnull().sum())\n",
    "\n",
    "print(\"\\nCountries/regions in the dataset:\")\n",
    "print(df['location'].nunique())\n",
    "print(\"\\nSample of locations:\")\n",
    "print(df['location'].unique()[:20])\n",
    "\n",
    "print(\"\\nDate range:\")\n",
    "print(f\"First date: {df['date'].min()}\")\n",
    "print(f\"Last date: {df['date'].max()}\")"
   ]
  },
  {
   "cell_type": "code",
   "execution_count": null,
   "id": "0e6110b8-a337-4af2-9e2f-1eca5ad2b4f8",
   "metadata": {},
   "outputs": [],
   "source": [
    "# 3. DATA CLEANING\n",
    "print(\"\\n--- Data Cleaning ---\")"
   ]
  },
  {
   "cell_type": "code",
   "execution_count": null,
   "id": "d779daa9-027f-4cba-998b-13f7b5fe67eb",
   "metadata": {},
   "outputs": [],
   "source": [
    "# Convert date to datetime\n",
    "df['date'] = pd.to_datetime(df['date'])\n",
    "print(\"Date column converted to datetime format.\")"
   ]
  },
  {
   "cell_type": "code",
   "execution_count": null,
   "id": "24a9cc6c-13f7-46b8-815b-1e101a6c2b70",
   "metadata": {},
   "outputs": [],
   "source": [
    "# Select countries of interest (can be modified as needed)\n",
    "countries_of_interest = ['United States', 'India', 'Brazil', 'United Kingdom', 'Kenya', 'South Africa', 'China', 'Germany', 'France', 'Italy']\n",
    "df_selected = df[df['location'].isin(countries_of_interest)].copy()\n",
    "print(f\"Selected {len(countries_of_interest)} countries for detailed analysis.\")\n"
   ]
  },
  {
   "cell_type": "code",
   "execution_count": null,
   "id": "a1845414-60d3-4fd8-bd63-008d7b366d07",
   "metadata": {},
   "outputs": [],
   "source": [
    "# Check for missing values in selected data\n",
    "print(\"\\nMissing values in selected countries dataset:\")\n",
    "print(df_selected[key_columns].isnull().sum())"
   ]
  },
  {
   "cell_type": "code",
   "execution_count": null,
   "id": "1157416c-2168-4eab-b8bb-3f96510f7076",
   "metadata": {},
   "outputs": [],
   "source": [
    "# Handle missing values for key metrics\n",
    "# Forward fill for cumulative metrics\n",
    "cumulative_cols = ['total_cases', 'total_deaths', 'total_vaccinations', \n",
    "                  'people_vaccinated', 'people_fully_vaccinated']\n",
    "for col in cumulative_cols:\n",
    "    if col in df_selected.columns:\n",
    "        df_selected[col] = df_selected.groupby('location')[col].fillna(method='ffill')\n"
   ]
  },
  {
   "cell_type": "code",
   "execution_count": null,
   "id": "256d9962-5c02-49c3-957a-e8015b4c31dd",
   "metadata": {},
   "outputs": [],
   "source": [
    "# For new cases/deaths, fill NaN with 0\n",
    "new_cols = ['new_cases', 'new_deaths']\n",
    "for col in new_cols:\n",
    "    if col in df_selected.columns:\n",
    "        df_selected[col] = df_selected[col].fillna(0)\n",
    "\n",
    "print(\"Missing values handled.\")\n"
   ]
  },
  {
   "cell_type": "code",
   "execution_count": null,
   "id": "465e587a-2e15-476a-bbba-1e6a398fce93",
   "metadata": {},
   "outputs": [],
   "source": [
    "# Calculate additional metrics\n",
    "if 'total_cases' in df_selected.columns and 'total_deaths' in df_selected.columns:\n",
    "    df_selected['death_rate'] = (df_selected['total_deaths'] / df_selected['total_cases'] * 100).round(2)\n",
    "    print(\"Death rate calculated.\")\n",
    "\n",
    "if 'people_vaccinated' in df_selected.columns and 'population' in df_selected.columns:\n",
    "    df_selected['vaccination_rate'] = (df_selected['people_vaccinated'] / df_selected['population'] * 100).round(2)\n",
    "    print(\"Vaccination rate calculated.\")"
   ]
  },
  {
   "cell_type": "code",
   "execution_count": null,
   "id": "c45fc5b6-069a-4269-b293-2c8aa2f3c1e9",
   "metadata": {},
   "outputs": [],
   "source": [
    "# 4. EXPLORATORY DATA ANALYSIS\n",
    "print(\"\\n--- Exploratory Data Analysis ---\")"
   ]
  },
  {
   "cell_type": "code",
   "execution_count": null,
   "id": "a104f4dd-29c2-4aeb-8be2-99bac66ba916",
   "metadata": {},
   "outputs": [],
   "source": [
    "# Set up visualization environment\n",
    "plt.figure(figsize=(14, 8))"
   ]
  },
  {
   "cell_type": "code",
   "execution_count": null,
   "id": "aca55b88-7394-4c5b-9094-724472f47c83",
   "metadata": {},
   "outputs": [],
   "source": [
    "# 4.1 Total Cases Over Time by Country\n",
    "plt.figure(figsize=(14, 8))\n",
    "for country in countries_of_interest:\n",
    "    country_data = df_selected[df_selected['location'] == country]\n",
    "    plt.plot(country_data['date'], country_data['total_cases'], label=country)\n",
    "\n",
    "plt.title('COVID-19 Total Cases Over Time', fontsize=16)\n",
    "plt.xlabel('Date', fontsize=12)\n",
    "plt.ylabel('Total Cases', fontsize=12)\n",
    "plt.legend()\n",
    "plt.grid(True, alpha=0.3)\n",
    "plt.xticks(rotation=45)\n",
    "plt.tight_layout()\n",
    "plt.savefig('total_cases_time_series.png')\n",
    "plt.close()\n",
    "print(\"Total cases time series plot created.\")\n"
   ]
  },
  {
   "cell_type": "code",
   "execution_count": null,
   "id": "ce7d6c31-9681-4add-a913-eae2874353c0",
   "metadata": {},
   "outputs": [],
   "source": [
    "# 4.2 Total Deaths Over Time by Country\n",
    "plt.figure(figsize=(14, 8))\n",
    "for country in countries_of_interest:\n",
    "    country_data = df_selected[df_selected['location'] == country]\n",
    "    plt.plot(country_data['date'], country_data['total_deaths'], label=country)\n",
    "\n",
    "plt.title('COVID-19 Total Deaths Over Time', fontsize=16)\n",
    "plt.xlabel('Date', fontsize=12)\n",
    "plt.ylabel('Total Deaths', fontsize=12)\n",
    "plt.legend()\n",
    "plt.grid(True, alpha=0.3)\n",
    "plt.xticks(rotation=45)\n",
    "plt.tight_layout()\n",
    "plt.savefig('total_deaths_time_series.png')\n",
    "plt.close()\n",
    "print(\"Total deaths time series plot created.\")"
   ]
  },
  {
   "cell_type": "code",
   "execution_count": null,
   "id": "b4aa36fd-0288-4d12-b9af-903569b3f175",
   "metadata": {},
   "outputs": [],
   "source": [
    "# 4.3 Daily New Cases (7-day rolling average)\n",
    "plt.figure(figsize=(14, 8))\n",
    "for country in countries_of_interest:\n",
    "    country_data = df_selected[df_selected['location'] == country]\n",
    "    # Create 7-day rolling average\n",
    "    country_data['new_cases_smoothed'] = country_data['new_cases'].rolling(window=7).mean()\n",
    "    plt.plot(country_data['date'], country_data['new_cases_smoothed'], label=country)\n",
    "\n",
    "plt.title('COVID-19 Daily New Cases (7-day Rolling Average)', fontsize=16)\n",
    "plt.xlabel('Date', fontsize=12)\n",
    "plt.ylabel('New Cases (7-day Avg)', fontsize=12)\n",
    "plt.legend()\n",
    "plt.grid(True, alpha=0.3)\n",
    "plt.xticks(rotation=45)\n",
    "plt.tight_layout()\n",
    "plt.savefig('new_cases_rolling_avg.png')\n",
    "plt.close()\n",
    "print(\"New cases rolling average plot created.\")\n"
   ]
  },
  {
   "cell_type": "code",
   "execution_count": null,
   "id": "93849986-cdb0-4680-9a6f-510e227b0266",
   "metadata": {},
   "outputs": [],
   "source": [
    "# 4.4 Death Rate Comparison (latest data)\n",
    "latest_data = df_selected.groupby('location').last().reset_index()\n",
    "latest_data = latest_data.sort_values('death_rate', ascending=False)\n",
    "\n",
    "plt.figure(figsize=(12, 8))\n",
    "sns.barplot(x='death_rate', y='location', data=latest_data)\n",
    "plt.title('COVID-19 Death Rate by Country (Latest Data)', fontsize=16)\n",
    "plt.xlabel('Death Rate (%)', fontsize=12)\n",
    "plt.ylabel('Country', fontsize=12)\n",
    "plt.grid(True, alpha=0.3)\n",
    "plt.tight_layout()\n",
    "plt.savefig('death_rate_comparison.png')\n",
    "plt.close()\n",
    "print(\"Death rate comparison plot created.\")"
   ]
  },
  {
   "cell_type": "code",
   "execution_count": null,
   "id": "98c9c293-9eae-43d5-ac72-c4a03f60ccc1",
   "metadata": {},
   "outputs": [],
   "source": [
    "# 5. VACCINATION ANALYSIS\n",
    "print(\"\\n--- Vaccination Analysis ---\")\n",
    "\n",
    "# 5.1 Vaccination Progress Over Time\n",
    "plt.figure(figsize=(14, 8))\n",
    "for country in countries_of_interest:\n",
    "    country_data = df_selected[df_selected['location'] == country]\n",
    "    if 'people_vaccinated' in country_data.columns:\n",
    "        plt.plot(country_data['date'], country_data['people_vaccinated'], label=country)\n",
    "\n",
    "plt.title('COVID-19 Vaccination Progress Over Time', fontsize=16)\n",
    "plt.xlabel('Date', fontsize=12)\n",
    "plt.ylabel('People Vaccinated', fontsize=12)\n",
    "plt.legend()\n",
    "plt.grid(True, alpha=0.3)\n",
    "plt.xticks(rotation=45)\n",
    "plt.tight_layout()\n",
    "plt.savefig('vaccination_progress.png')\n",
    "plt.close()\n",
    "print(\"Vaccination progress plot created.\")"
   ]
  },
  {
   "cell_type": "code",
   "execution_count": null,
   "id": "aef1eee6-bfe3-4bb8-8536-6fd4fe494724",
   "metadata": {},
   "outputs": [],
   "source": [
    "# 5.2 Vaccination Rate Comparison (latest data)\n",
    "if 'vaccination_rate' in latest_data.columns:\n",
    "    latest_data = latest_data.sort_values('vaccination_rate', ascending=False)\n",
    "    \n",
    "    plt.figure(figsize=(12, 8))\n",
    "    sns.barplot(x='vaccination_rate', y='location', data=latest_data)\n",
    "    plt.title('COVID-19 Vaccination Rate by Country (Latest Data)', fontsize=16)\n",
    "    plt.xlabel('Vaccination Rate (%)', fontsize=12)\n",
    "    plt.ylabel('Country', fontsize=12)\n",
    "    plt.grid(True, alpha=0.3)\n",
    "    plt.tight_layout()\n",
    "    plt.savefig('vaccination_rate_comparison.png')\n",
    "    plt.close()\n",
    "    print(\"Vaccination rate comparison plot created.\")"
   ]
  },
  {
   "cell_type": "code",
   "execution_count": null,
   "id": "6d57dae2-312c-49e7-8013-06ef46be2a59",
   "metadata": {},
   "outputs": [],
   "source": [
    "# 6. CHOROPLETH MAP VISUALIZATION\n",
    "print(\"\\n--- Global Map Visualization ---\")"
   ]
  },
  {
   "cell_type": "code",
   "execution_count": null,
   "id": "84fc5525-0e33-43ed-91a6-d441076bbfca",
   "metadata": {},
   "outputs": [],
   "source": [
    "# Get most recent data for each country\n",
    "latest_global_data = df.groupby('location').last().reset_index()"
   ]
  },
  {
   "cell_type": "code",
   "execution_count": null,
   "id": "b0bc63f5-e726-4515-b102-64dd86503f35",
   "metadata": {},
   "outputs": [],
   "source": [
    "# Create world map of total cases\n",
    "if 'iso_code' in latest_global_data.columns and 'total_cases' in latest_global_data.columns:\n",
    "    try:\n",
    "        fig = px.choropleth(\n",
    "            latest_global_data,\n",
    "            locations=\"iso_code\",\n",
    "            color=\"total_cases\",\n",
    "            hover_name=\"location\",\n",
    "            color_continuous_scale=\"Viridis\",\n",
    "            title=\"Global COVID-19 Total Cases\",\n",
    "            projection=\"natural earth\"\n",
    "        )\n",
    "        fig.write_html(\"covid_global_map.html\")\n",
    "        print(\"Global choropleth map created and saved as HTML.\")\n",
    "    except Exception as e:\n",
    "        print(f\"Could not create choropleth map: {e}\")"
   ]
  },
  {
   "cell_type": "code",
   "execution_count": null,
   "id": "56b6f1ac-7654-4c32-b947-17c2b9d381f0",
   "metadata": {},
   "outputs": [],
   "source": [
    "# Create world map of vaccination rates\n",
    "if 'iso_code' in latest_global_data.columns and 'people_vaccinated' in latest_global_data.columns and 'population' in latest_global_data.columns:\n",
    "    try:\n",
    "        latest_global_data['vaccination_rate'] = (latest_global_data['people_vaccinated'] / latest_global_data['population'] * 100).round(2)\n",
    "        \n",
    "        fig = px.choropleth(\n",
    "            latest_global_data,\n",
    "            locations=\"iso_code\",\n",
    "            color=\"vaccination_rate\",\n",
    "            hover_name=\"location\",\n",
    "            color_continuous_scale=\"Blues\",\n",
    "            title=\"Global COVID-19 Vaccination Rates (%)\",\n",
    "            projection=\"natural earth\"\n",
    "        )\n",
    "        fig.write_html(\"vaccination_global_map.html\")\n",
    "        print(\"Global vaccination rate map created and saved as HTML.\")\n",
    "    except Exception as e:\n",
    "        print(f\"Could not create vaccination choropleth map: {e}\")"
   ]
  },
  {
   "cell_type": "code",
   "execution_count": null,
   "id": "a9a220c8-5636-4f5d-9e8e-cf10e29dc614",
   "metadata": {},
   "outputs": [],
   "source": [
    "# 7. KEY INSIGHTS\n",
    "print(\"\\n--- Key Insights ---\")"
   ]
  },
  {
   "cell_type": "code",
   "execution_count": null,
   "id": "d0653baa-ecc7-475f-9cb6-971a67b80ce4",
   "metadata": {},
   "outputs": [],
   "source": [
    "# Calculate key statistics\n",
    "try:\n",
    "    # Countries with highest case counts\n",
    "    top_cases = latest_global_data.sort_values('total_cases', ascending=False)[['location', 'total_cases']].head(5)\n",
    "    print(\"\\nTop 5 countries by total cases:\")\n",
    "    print(top_cases)"
   ]
  },
  {
   "cell_type": "code",
   "execution_count": null,
   "id": "98c29227-0679-49ba-bde4-45dc0fe65334",
   "metadata": {},
   "outputs": [],
   "source": [
    "# Countries with highest death counts\n",
    "    top_deaths = latest_global_data.sort_values('total_deaths', ascending=False)[['location', 'total_deaths']].head(5)\n",
    "    print(\"\\nTop 5 countries by total deaths:\")\n",
    "    print(top_deaths)"
   ]
  },
  {
   "cell_type": "code",
   "execution_count": null,
   "id": "b4ee8800-f3c1-402c-bb1d-fa42bcfe491d",
   "metadata": {},
   "outputs": [],
   "source": [
    "# Countries with highest vaccination rates (where data available)\n",
    "    if 'vaccination_rate' in latest_global_data.columns:\n",
    "        valid_vax = latest_global_data.dropna(subset=['vaccination_rate'])\n",
    "        top_vax = valid_vax.sort_values('vaccination_rate', ascending=False)[['location', 'vaccination_rate']].head(5)\n",
    "        print(\"\\nTop 5 countries by vaccination rate (%):\")\n",
    "        print(top_vax)"
   ]
  },
  {
   "cell_type": "code",
   "execution_count": null,
   "id": "83f4d70b-c738-465b-a17e-f50f93a91214",
   "metadata": {},
   "outputs": [],
   "source": [
    "# Global totals\n",
    "    global_cases = df[df['location'] == 'World']['total_cases'].max()\n",
    "    global_deaths = df[df['location'] == 'World']['total_deaths'].max()\n",
    "    global_vaccinations = df[df['location'] == 'World']['people_vaccinated'].max()\n",
    "    \n",
    "    print(f\"\\nGlobal totals from the dataset:\")\n",
    "    print(f\"- Total cases: {global_cases:,.0f}\")\n",
    "    print(f\"- Total deaths: {global_deaths:,.0f}\")\n",
    "    if not pd.isna(global_vaccinations):\n",
    "        print(f\"- People vaccinated: {global_vaccinations:,.0f}\")"
   ]
  },
  {
   "cell_type": "code",
   "execution_count": null,
   "id": "9e5f0bd3-e2f2-429c-a3b0-0cc55540083c",
   "metadata": {},
   "outputs": [],
   "source": [
    "# Calculate average death rate\n",
    "    world_death_rate = df[df['location'] == 'World']['total_deaths'].max() / df[df['location'] == 'World']['total_cases'].max() * 100\n",
    "    print(f\"\\nGlobal average death rate: {world_death_rate:.2f}%\")\n",
    "\n",
    "except Exception as e:\n",
    "    print(f\"Could not calculate all statistics: {e}\")\n",
    "\n",
    "print(\"\\n--- Analysis Complete ---\")\n",
    "print(\"All visualizations have been saved to the current directory.\")\n",
    "print(\"For a comprehensive report, include these visualizations and statistics in your Jupyter notebook with appropriate markdown commentary.\")"
   ]
  },
  {
   "cell_type": "code",
   "execution_count": null,
   "id": "33ecf971-2b97-4696-8b74-4c1da8fd3826",
   "metadata": {},
   "outputs": [],
   "source": []
  },
  {
   "cell_type": "code",
   "execution_count": null,
   "id": "60212170-b56e-4ba0-b634-5344b1dad1cc",
   "metadata": {},
   "outputs": [],
   "source": []
  },
  {
   "cell_type": "code",
   "execution_count": null,
   "id": "6383468d-12fa-43ed-a7d3-5468b8dcf5ab",
   "metadata": {},
   "outputs": [],
   "source": []
  },
  {
   "cell_type": "code",
   "execution_count": null,
   "id": "82a46d9c-e2e3-4801-a605-8d5d1c03c374",
   "metadata": {},
   "outputs": [],
   "source": []
  },
  {
   "cell_type": "code",
   "execution_count": null,
   "id": "b95215d9-9a96-4756-b07f-d05425064a33",
   "metadata": {},
   "outputs": [],
   "source": []
  },
  {
   "cell_type": "code",
   "execution_count": null,
   "id": "57f7353f-6c47-4012-a313-0ce38463e7c6",
   "metadata": {},
   "outputs": [],
   "source": []
  }
 ],
 "metadata": {
  "kernelspec": {
   "display_name": "Python 3 (ipykernel)",
   "language": "python",
   "name": "python3"
  },
  "language_info": {
   "codemirror_mode": {
    "name": "ipython",
    "version": 3
   },
   "file_extension": ".py",
   "mimetype": "text/x-python",
   "name": "python",
   "nbconvert_exporter": "python",
   "pygments_lexer": "ipython3",
   "version": "3.12.7"
  }
 },
 "nbformat": 4,
 "nbformat_minor": 5
}
